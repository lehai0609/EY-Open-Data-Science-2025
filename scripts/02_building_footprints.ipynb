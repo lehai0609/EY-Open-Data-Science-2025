{
 "cells": [
  {
   "cell_type": "markdown",
   "metadata": {},
   "source": [
    "## **II. Building Footprint analysis**"
   ]
  },
  {
   "cell_type": "markdown",
   "metadata": {},
   "source": [
    "### **1. Overview of dataset**"
   ]
  },
  {
   "cell_type": "code",
   "execution_count": 1,
   "metadata": {},
   "outputs": [],
   "source": [
    "import geopandas as gpd\n",
    "\n",
    "file_path = \"../input//Building Footprints_20250131.geojson\"\n",
    "gdf_buildings = gpd.read_file(file_path)"
   ]
  },
  {
   "cell_type": "code",
   "execution_count": 2,
   "metadata": {},
   "outputs": [
    {
     "name": "stdout",
     "output_type": "stream",
     "text": [
      "   name    base_bbl shape_area   heightroof  mpluto_bbl cnstrct_yr  \\\n",
      "0  None  3065220021        0.0  29.74985318  3065220021       1925   \n",
      "1  None  5012640036        0.0        22.63  5012640036       1965   \n",
      "2  None  5060190091        0.0        35.76  5060190091       1970   \n",
      "3  None  3086910048        0.0         37.5  3086910048       1928   \n",
      "4  None  4075020005        0.0  18.01511294  4075020005       1950   \n",
      "\n",
      "                                 globalid   lststatype feat_code groundelev  \\\n",
      "0  {31298F86-3088-4F53-B3DB-71A9EFA6FA1F}  Constructed      2100         40   \n",
      "1  {F5F8CDA5-69E2-46F8-8F69-BA95C025B520}  Constructed      2100         39   \n",
      "2  {9F644794-F72C-4582-9E5E-B337E2B97068}  Constructed      2100         51   \n",
      "3  {F916B22D-E25B-44AE-9FA9-2A51191B9CDF}  Constructed      2100          6   \n",
      "4  {525F2C24-616B-4F29-98A3-8FEA5D4B1A7D}  Constructed      2100         93   \n",
      "\n",
      "   geomsource      bin lstmoddate doitt_id shape_len  \\\n",
      "0  Photogramm  3170958 2017-08-22    96807       0.0   \n",
      "1  Photogramm  5028452 2017-08-22   326368       0.0   \n",
      "2  Photogramm  5078368 2017-08-22   746627       0.0   \n",
      "3  Photogramm  3245111 2017-08-22   786626       0.0   \n",
      "4  Photogramm  4161096 2017-08-22   746409       0.0   \n",
      "\n",
      "                                            geometry  \n",
      "0  MULTIPOLYGON (((-73.96665 40.626, -73.96685 40...  \n",
      "1  MULTIPOLYGON (((-74.1679 40.63936, -74.1679 40...  \n",
      "2  MULTIPOLYGON (((-74.19511 40.55611, -74.1952 4...  \n",
      "3  MULTIPOLYGON (((-73.96113 40.57744, -73.96115 ...  \n",
      "4  MULTIPOLYGON (((-73.75422 40.75591, -73.75417 ...  \n"
     ]
    }
   ],
   "source": [
    "print(gdf_buildings.head())"
   ]
  },
  {
   "cell_type": "code",
   "execution_count": 3,
   "metadata": {},
   "outputs": [
    {
     "name": "stdout",
     "output_type": "stream",
     "text": [
      "name                  object\n",
      "base_bbl              object\n",
      "shape_area            object\n",
      "heightroof            object\n",
      "mpluto_bbl            object\n",
      "cnstrct_yr            object\n",
      "globalid              object\n",
      "lststatype            object\n",
      "feat_code             object\n",
      "groundelev            object\n",
      "geomsource            object\n",
      "bin                   object\n",
      "lstmoddate    datetime64[ms]\n",
      "doitt_id              object\n",
      "shape_len             object\n",
      "geometry            geometry\n",
      "dtype: object\n"
     ]
    }
   ],
   "source": [
    "print(gdf_buildings.dtypes)"
   ]
  },
  {
   "cell_type": "code",
   "execution_count": 5,
   "metadata": {},
   "outputs": [],
   "source": [
    "import pandas as pd\n",
    "# Data Type Conversion\n",
    "cols_to_convert = ['shape_area', 'heightroof', 'cnstrct_yr', 'groundelev']\n",
    "for col in cols_to_convert:\n",
    "    gdf_buildings[col] = pd.to_numeric(gdf_buildings[col], errors='coerce')\n",
    "\n",
    "gdf_buildings['lstmoddate'] = pd.to_datetime(gdf_buildings['lstmoddate'], errors='coerce')"
   ]
  },
  {
   "cell_type": "code",
   "execution_count": 7,
   "metadata": {},
   "outputs": [
    {
     "name": "stdout",
     "output_type": "stream",
     "text": [
      "       shape_area    heightroof    cnstrct_yr    groundelev  \\\n",
      "count   1082896.0  1.082894e+06  1.072674e+06  1.082347e+06   \n",
      "mean          0.0  2.775331e+01  1.939697e+03  5.512668e+01   \n",
      "min           0.0  0.000000e+00  1.652000e+03 -1.600000e+01   \n",
      "25%           0.0  1.853000e+01  1.920000e+03  2.500000e+01   \n",
      "50%           0.0  2.614000e+01  1.930000e+03  4.600000e+01   \n",
      "75%           0.0  3.116000e+01  1.955000e+03  7.400000e+01   \n",
      "max           0.0  1.550000e+03  2.025000e+03  1.335000e+03   \n",
      "std           0.0  2.215500e+01  2.954712e+01  4.154842e+01   \n",
      "\n",
      "                       lstmoddate  \n",
      "count                     1082896  \n",
      "mean   2017-10-01 21:27:30.534000  \n",
      "min           2005-02-16 00:00:00  \n",
      "25%           2017-08-22 00:00:00  \n",
      "50%           2017-08-22 00:00:00  \n",
      "75%           2017-08-22 00:00:00  \n",
      "max           2025-01-24 00:00:00  \n",
      "std                           NaN  \n"
     ]
    }
   ],
   "source": [
    "# Descriptive Statistics and Missing Value Check\n",
    "print(gdf_buildings.describe())"
   ]
  },
  {
   "cell_type": "code",
   "execution_count": 9,
   "metadata": {},
   "outputs": [
    {
     "name": "stdout",
     "output_type": "stream",
     "text": [
      "name          1080658\n",
      "base_bbl            1\n",
      "shape_area          0\n",
      "heightroof          2\n",
      "mpluto_bbl          1\n",
      "cnstrct_yr      10222\n",
      "globalid            0\n",
      "lststatype        342\n",
      "feat_code           0\n",
      "groundelev        549\n",
      "geomsource        311\n",
      "bin                 1\n",
      "lstmoddate          0\n",
      "doitt_id            0\n",
      "shape_len           0\n",
      "geometry            0\n",
      "dtype: int64\n"
     ]
    }
   ],
   "source": [
    "# Descriptive Statistics and Missing Value Check\n",
    "print(gdf_buildings.isna().sum())"
   ]
  },
  {
   "cell_type": "code",
   "execution_count": 10,
   "metadata": {},
   "outputs": [
    {
     "name": "stdout",
     "output_type": "stream",
     "text": [
      "EPSG:4326\n"
     ]
    }
   ],
   "source": [
    "# CRS Check\n",
    "print(gdf_buildings.crs)"
   ]
  },
  {
   "cell_type": "markdown",
   "metadata": {},
   "source": [
    "### **2. Feature engineering**"
   ]
  },
  {
   "cell_type": "code",
   "execution_count": 14,
   "metadata": {},
   "outputs": [],
   "source": [
    "# 1. Reproject to EPSG:2263 (NAD83 / New York Long Island (ftUS))\n",
    "gdf_buildings = gdf_buildings.to_crs(epsg=2263)\n",
    "\n",
    "# 2. Calculate the area (now in square feet)\n",
    "gdf_buildings['calculated_area_sqft'] = gdf_buildings.geometry.area\n",
    "\n",
    "# 3. Convert square feet to square meters: 1 sq ft = 0.092903 sq m\n",
    "gdf_buildings['calculated_area_sqm'] = gdf_buildings['calculated_area_sqft'] * 0.092903"
   ]
  },
  {
   "cell_type": "code",
   "execution_count": 15,
   "metadata": {},
   "outputs": [
    {
     "name": "stdout",
     "output_type": "stream",
     "text": [
      "0    152.188049\n",
      "1     70.012084\n",
      "2     66.792573\n",
      "3    108.479500\n",
      "4    163.017750\n",
      "Name: calculated_area_sqm, dtype: float64\n"
     ]
    }
   ],
   "source": [
    "print(gdf_buildings[\"calculated_area_sqm\"].head())"
   ]
  },
  {
   "cell_type": "code",
   "execution_count": 16,
   "metadata": {},
   "outputs": [],
   "source": [
    "# 4.  Outliers handling. Replace value exceeding 99.9 percentile with 99.9 percentile value\n",
    "max_height = gdf_buildings['heightroof'].quantile(0.999)\n",
    "gdf_buildings.loc[gdf_buildings['heightroof'] > max_height, 'heightroof'] = max_height\n",
    "\n",
    "max_elevation = gdf_buildings['groundelev'].quantile(0.999)\n",
    "gdf_buildings.loc[gdf_buildings['groundelev'] > max_elevation, 'groundelev'] = max_elevation"
   ]
  },
  {
   "cell_type": "code",
   "execution_count": 17,
   "metadata": {},
   "outputs": [
    {
     "name": "stdout",
     "output_type": "stream",
     "text": [
      "       shape_area  calculated_area_sqft  calculated_area_sqm    heightroof  \\\n",
      "count   1082896.0          1.082896e+06         1.082896e+06  1.082894e+06   \n",
      "mean          0.0          1.608273e+03         1.494134e+02  2.760884e+01   \n",
      "std           0.0          5.664603e+03         5.262586e+02  1.917501e+01   \n",
      "min           0.0          3.247649e+01         3.017164e+00  0.000000e+00   \n",
      "25%           0.0          6.539575e+02         6.075461e+01  1.853000e+01   \n",
      "50%           0.0          9.591694e+02         8.910972e+01  2.614000e+01   \n",
      "75%           0.0          1.323632e+03         1.229694e+02  3.116000e+01   \n",
      "max           0.0          1.171874e+06         1.088707e+05  2.981297e+02   \n",
      "\n",
      "         groundelev  \n",
      "count  1.082347e+06  \n",
      "mean   5.509129e+01  \n",
      "std    4.129722e+01  \n",
      "min   -1.600000e+01  \n",
      "25%    2.500000e+01  \n",
      "50%    4.600000e+01  \n",
      "75%    7.400000e+01  \n",
      "max    3.100000e+02  \n"
     ]
    }
   ],
   "source": [
    "print(gdf_buildings[['shape_area', 'calculated_area_sqft', 'calculated_area_sqm', 'heightroof', 'groundelev']].describe())"
   ]
  },
  {
   "cell_type": "code",
   "execution_count": 18,
   "metadata": {},
   "outputs": [
    {
     "name": "stdout",
     "output_type": "stream",
     "text": [
      "name                    1080658\n",
      "base_bbl                      1\n",
      "shape_area                    0\n",
      "heightroof                    2\n",
      "mpluto_bbl                    1\n",
      "cnstrct_yr                10222\n",
      "globalid                      0\n",
      "lststatype                  342\n",
      "feat_code                     0\n",
      "groundelev                  549\n",
      "geomsource                  311\n",
      "bin                           1\n",
      "lstmoddate                    0\n",
      "doitt_id                      0\n",
      "shape_len                     0\n",
      "geometry                      0\n",
      "calculated_area               0\n",
      "calculated_area_sqft          0\n",
      "calculated_area_sqm           0\n",
      "dtype: int64\n"
     ]
    }
   ],
   "source": [
    "print(gdf_buildings.isna().sum())"
   ]
  },
  {
   "cell_type": "markdown",
   "metadata": {},
   "source": [
    "***Observation:***\n",
    "Suggest the following approach to deal with missing data:\n",
    "\n",
    "- Remove following fields/columns: name, base_bbl, mpluto_bbl, cnstrct_yr, doitt_id, geomsource, bin. I'd not use these fields/columns in the final analysis or model building.\n",
    "\n",
    "- median impute for heightroof, groundelev"
   ]
  },
  {
   "cell_type": "code",
   "execution_count": null,
   "metadata": {},
   "outputs": [],
   "source": [
    "# Columns to remove\n",
    "columns_to_remove = ['name', 'base_bbl', 'mpluto_bbl', 'cnstrct_yr', 'doitt_id', 'geomsource', 'bin', 'lststatype', 'shape_len', 'globalid', 'feat_code', 'lstmoddate', 'calculated_area_sqft']\n",
    "gdf_buildings.drop(columns=columns_to_remove, inplace=True, errors='ignore')\n",
    "\n",
    "# Impute missing values for 'heightroof' with the median\n",
    "median_height = gdf_buildings['heightroof'].median()\n",
    "gdf_buildings['heightroof'] = gdf_buildings['heightroof'].fillna(median_height)\n",
    "\n",
    "# Impute missing values for 'groundelev' with the median\n",
    "median_elevation = gdf_buildings['groundelev'].median()\n",
    "gdf_buildings['groundelev'] = gdf_buildings['groundelev'].fillna(median_elevation)"
   ]
  },
  {
   "cell_type": "code",
   "execution_count": 23,
   "metadata": {},
   "outputs": [
    {
     "name": "stdout",
     "output_type": "stream",
     "text": [
      "shape_area              0\n",
      "heightroof              0\n",
      "groundelev              0\n",
      "lstmoddate              0\n",
      "geometry                0\n",
      "calculated_area         0\n",
      "calculated_area_sqft    0\n",
      "calculated_area_sqm     0\n",
      "dtype: int64\n"
     ]
    }
   ],
   "source": [
    "# Check missing values again\n",
    "print(gdf_buildings.isna().sum())"
   ]
  },
  {
   "cell_type": "code",
   "execution_count": 24,
   "metadata": {},
   "outputs": [
    {
     "name": "stdout",
     "output_type": "stream",
     "text": [
      "<class 'geopandas.geodataframe.GeoDataFrame'>\n",
      "RangeIndex: 1082896 entries, 0 to 1082895\n",
      "Data columns (total 8 columns):\n",
      " #   Column                Non-Null Count    Dtype         \n",
      "---  ------                --------------    -----         \n",
      " 0   shape_area            1082896 non-null  float64       \n",
      " 1   heightroof            1082896 non-null  float64       \n",
      " 2   groundelev            1082896 non-null  float64       \n",
      " 3   lstmoddate            1082896 non-null  datetime64[ms]\n",
      " 4   geometry              1082896 non-null  geometry      \n",
      " 5   calculated_area       1082896 non-null  float64       \n",
      " 6   calculated_area_sqft  1082896 non-null  float64       \n",
      " 7   calculated_area_sqm   1082896 non-null  float64       \n",
      "dtypes: datetime64[ms](1), float64(6), geometry(1)\n",
      "memory usage: 66.1 MB\n",
      "None\n"
     ]
    }
   ],
   "source": [
    "# Display the cleaned dataframe info\n",
    "print(gdf_buildings.info())"
   ]
  },
  {
   "cell_type": "code",
   "execution_count": 25,
   "metadata": {},
   "outputs": [
    {
     "name": "stdout",
     "output_type": "stream",
     "text": [
      "EPSG:2263\n"
     ]
    }
   ],
   "source": [
    "print(gdf_buildings.crs)"
   ]
  },
  {
   "cell_type": "markdown",
   "metadata": {},
   "source": [
    "**Observation:**\n",
    "\n",
    "Here are what we have achieved:\n",
    "- Converted building footprint CRS to EPSG:2263.\n",
    "- shape_area is corrected and in square meter(calculated_area_sqm).\n",
    "- Outliers in heightroof and groundelev are handled.\n",
    "- Missing values are imputed.\n",
    "- Unnecessary columns are dropped."
   ]
  }
 ],
 "metadata": {
  "kernelspec": {
   "display_name": "Python 3",
   "language": "python",
   "name": "python3"
  },
  "language_info": {
   "codemirror_mode": {
    "name": "ipython",
    "version": 3
   },
   "file_extension": ".py",
   "mimetype": "text/x-python",
   "name": "python",
   "nbconvert_exporter": "python",
   "pygments_lexer": "ipython3",
   "version": "3.12.6"
  }
 },
 "nbformat": 4,
 "nbformat_minor": 2
}
