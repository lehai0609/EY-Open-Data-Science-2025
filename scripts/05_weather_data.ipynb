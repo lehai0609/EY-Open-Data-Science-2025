{
 "cells": [
  {
   "cell_type": "code",
   "execution_count": 2,
   "metadata": {},
   "outputs": [],
   "source": [
    "import pandas as pd\n",
    "\n",
    "# Read the two sheets from the Excel file\n",
    "df_bronx = pd.read_excel(\"../input/NY_Mesonet_Weather.xlsx\", sheet_name=\"Bronx\")\n",
    "df_manhattan = pd.read_excel(\"../input/NY_Mesonet_Weather.xlsx\", sheet_name=\"Manhattan\")\n",
    "\n",
    "# Add a column to identify the location for each sheet\n",
    "df_bronx[\"location\"] = \"Bronx\"\n",
    "df_manhattan[\"location\"] = \"Manhattan\"\n",
    "\n",
    "# Combine the two DataFrames\n",
    "df_weather = pd.concat([df_bronx, df_manhattan], ignore_index=True)"
   ]
  },
  {
   "cell_type": "code",
   "execution_count": 3,
   "metadata": {},
   "outputs": [
    {
     "name": "stdout",
     "output_type": "stream",
     "text": [
      "               Date / Time  Air Temp at Surface [degC]  \\\n",
      "0  2021-07-24 06:00:00 EDT                        19.3   \n",
      "1  2021-07-24 06:05:00 EDT                        19.4   \n",
      "2  2021-07-24 06:10:00 EDT                        19.3   \n",
      "3  2021-07-24 06:15:00 EDT                        19.4   \n",
      "4  2021-07-24 06:20:00 EDT                        19.4   \n",
      "\n",
      "   Relative Humidity [percent]  Avg Wind Speed [m/s]  \\\n",
      "0                         88.2                   0.8   \n",
      "1                         87.9                   0.8   \n",
      "2                         87.6                   0.7   \n",
      "3                         87.4                   0.5   \n",
      "4                         87.0                   0.2   \n",
      "\n",
      "   Wind Direction [degrees]  Solar Flux [W/m^2] location  \n",
      "0                       335                  12    Bronx  \n",
      "1                       329                  18    Bronx  \n",
      "2                       321                  25    Bronx  \n",
      "3                       307                  33    Bronx  \n",
      "4                       301                  42    Bronx  \n"
     ]
    }
   ],
   "source": [
    "print(df_weather.head())"
   ]
  },
  {
   "cell_type": "code",
   "execution_count": 4,
   "metadata": {},
   "outputs": [
    {
     "name": "stdout",
     "output_type": "stream",
     "text": [
      "<class 'pandas.core.frame.DataFrame'>\n",
      "RangeIndex: 338 entries, 0 to 337\n",
      "Data columns (total 7 columns):\n",
      " #   Column                       Non-Null Count  Dtype  \n",
      "---  ------                       --------------  -----  \n",
      " 0   Date / Time                  338 non-null    object \n",
      " 1   Air Temp at Surface [degC]   338 non-null    float64\n",
      " 2   Relative Humidity [percent]  338 non-null    float64\n",
      " 3   Avg Wind Speed [m/s]         338 non-null    float64\n",
      " 4   Wind Direction [degrees]     338 non-null    int64  \n",
      " 5   Solar Flux [W/m^2]           338 non-null    int64  \n",
      " 6   location                     338 non-null    object \n",
      "dtypes: float64(3), int64(2), object(2)\n",
      "memory usage: 18.6+ KB\n",
      "None\n"
     ]
    }
   ],
   "source": [
    "print(df_weather.info())"
   ]
  },
  {
   "cell_type": "code",
   "execution_count": 5,
   "metadata": {},
   "outputs": [
    {
     "name": "stdout",
     "output_type": "stream",
     "text": [
      "       Air Temp at Surface [degC]  Relative Humidity [percent]  \\\n",
      "count                  338.000000                   338.000000   \n",
      "mean                    24.994083                    51.923669   \n",
      "std                      2.195915                     9.741025   \n",
      "min                     19.300000                    39.200000   \n",
      "25%                     24.200000                    46.500000   \n",
      "50%                     25.300000                    49.000000   \n",
      "75%                     26.675000                    52.975000   \n",
      "max                     28.400000                    88.200000   \n",
      "\n",
      "       Avg Wind Speed [m/s]  Wind Direction [degrees]  Solar Flux [W/m^2]  \n",
      "count            338.000000                338.000000          338.000000  \n",
      "mean               2.140237                131.671598          383.934911  \n",
      "std                0.940283                 89.351082          261.953450  \n",
      "min                0.200000                  1.000000           10.000000  \n",
      "25%                1.500000                 56.000000          150.000000  \n",
      "50%                2.000000                135.000000          325.500000  \n",
      "75%                2.800000                168.000000          619.500000  \n",
      "max                4.800000                359.000000          960.000000  \n"
     ]
    }
   ],
   "source": [
    "print(df_weather.describe())"
   ]
  },
  {
   "cell_type": "code",
   "execution_count": 6,
   "metadata": {},
   "outputs": [
    {
     "name": "stdout",
     "output_type": "stream",
     "text": [
      "Date / Time                    0\n",
      "Air Temp at Surface [degC]     0\n",
      "Relative Humidity [percent]    0\n",
      "Avg Wind Speed [m/s]           0\n",
      "Wind Direction [degrees]       0\n",
      "Solar Flux [W/m^2]             0\n",
      "location                       0\n",
      "dtype: int64\n"
     ]
    }
   ],
   "source": [
    "print(df_weather.isna().sum())"
   ]
  },
  {
   "cell_type": "code",
   "execution_count": 8,
   "metadata": {},
   "outputs": [
    {
     "name": "stderr",
     "output_type": "stream",
     "text": [
      "C:\\Users\\ADMIN\\AppData\\Local\\Temp\\ipykernel_23360\\3642382835.py:1: FutureWarning: Parsed string \"2021-07-24 06:00:00 EDT\" included an un-recognized timezone \"EDT\". Dropping unrecognized timezones is deprecated; in a future version this will raise. Instead pass the string without the timezone, then use .tz_localize to convert to a recognized timezone.\n",
      "  df_weather['Date / Time'] = pd.to_datetime(df_weather['Date / Time'], errors='coerce')\n"
     ]
    }
   ],
   "source": [
    "df_weather['Date / Time'] = pd.to_datetime(df_weather['Date / Time'], errors='coerce')"
   ]
  },
  {
   "cell_type": "code",
   "execution_count": 9,
   "metadata": {},
   "outputs": [],
   "source": [
    "# Save the processed weather data to a Parquet file for later integration\n",
    "df_weather.to_parquet(\"../output/weather_data_processed.parquet\", index=False)"
   ]
  }
 ],
 "metadata": {
  "kernelspec": {
   "display_name": "Python 3",
   "language": "python",
   "name": "python3"
  },
  "language_info": {
   "codemirror_mode": {
    "name": "ipython",
    "version": 3
   },
   "file_extension": ".py",
   "mimetype": "text/x-python",
   "name": "python",
   "nbconvert_exporter": "python",
   "pygments_lexer": "ipython3",
   "version": "3.12.6"
  }
 },
 "nbformat": 4,
 "nbformat_minor": 2
}
