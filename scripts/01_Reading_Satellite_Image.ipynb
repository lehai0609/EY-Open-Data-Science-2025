{
 "cells": [
  {
   "cell_type": "markdown",
   "metadata": {},
   "source": [
    "# **I. READING SATELLITE IMAGES FROM SENTINEL-2 & LandSat-8**\n",
    "\n",
    "Reading data from these images are critical due to:\n",
    "- Analysis of Surface material & albedo of Road and Pavement: specifically ustilize LandSat 8's thermal infrared (TIRS - Band 10 & Band 11) Shortwave Infrared (SWIR1 - SWIR2). There are scientific proven albedo formula using Landsat Band.\n",
    "- Analysis of Vegetation areas: utilize Red Edge Band (B5 -> B8A.) from Sentinel-2 satellite"
   ]
  },
  {
   "cell_type": "markdown",
   "metadata": {},
   "source": [
    "## **1. Define geo-boundings & time**"
   ]
  },
  {
   "cell_type": "code",
   "execution_count": 4,
   "metadata": {},
   "outputs": [],
   "source": [
    "# Define bounding box (latitude, longitude) for area of interest - Bronx & Manhattan of New York\n",
    "lower_left = (40.75, -74.01)     # (lat, lon)\n",
    "upper_right = (40.88, -73.86)\n",
    "\n",
    "# Calculate bounds as (min_lon, min_lat, max_lon, max_lat)\n",
    "bounds = (lower_left[1], lower_left[0], upper_right[1], upper_right[0])\n",
    "\n",
    "# Define your time period of interest\n",
    "time_window = \"2021-06-01/2021-09-01\""
   ]
  },
  {
   "cell_type": "markdown",
   "metadata": {},
   "source": [
    "## **2. Connect to Sentinel-2 & Landsat-8**"
   ]
  },
  {
   "cell_type": "code",
   "execution_count": 8,
   "metadata": {},
   "outputs": [
    {
     "name": "stdout",
     "output_type": "stream",
     "text": [
      "Number of Sentinel-2 scenes found: 10\n",
      "Number of Landsat scenes found: 5\n"
     ]
    }
   ],
   "source": [
    "import warnings\n",
    "import numpy as np\n",
    "import xarray as xr\n",
    "import matplotlib.pyplot as plt\n",
    "import rioxarray as rio\n",
    "import rasterio\n",
    "from matplotlib.cm import RdYlGn, jet, RdBu\n",
    "\n",
    "import stackstac\n",
    "import pystac_client\n",
    "import planetary_computer\n",
    "from odc.stac import stac_load\n",
    "\n",
    "# Suppress warnings for a cleaner output\n",
    "warnings.filterwarnings('ignore')\n",
    "\n",
    "# Connect to the Microsoft Planetary Computer STAC endpoint\n",
    "stac = pystac_client.Client.open(\"https://planetarycomputer.microsoft.com/api/stac/v1\")\n",
    "\n",
    "# Search for Sentinel-2 scenes (with cloud cover < 30%)\n",
    "sentinel_search = stac.search(\n",
    "    bbox=bounds, \n",
    "    datetime=time_window,\n",
    "    collections=[\"sentinel-2-l2a\"],\n",
    "    query={\"eo:cloud_cover\": {\"lt\": 30}},\n",
    ")\n",
    "sentinel_items = list(sentinel_search.get_items())\n",
    "print('Number of Sentinel-2 scenes found:', len(sentinel_items))\n",
    "\n",
    "# Search for Landsat scenes (using a similar cloud cover threshold, adjust as needed)\n",
    "landsat_search = stac.search(\n",
    "    bbox=bounds,\n",
    "    datetime=time_window,\n",
    "    collections=[\"landsat-8-c2-l2\"],\n",
    "    query={\"eo:cloud_cover\": {\"lt\": 20}},\n",
    ")\n",
    "landsat_items = list(landsat_search.get_items())\n",
    "print('Number of Landsat scenes found:', len(landsat_items))\n"
   ]
  },
  {
   "cell_type": "markdown",
   "metadata": {},
   "source": [
    "## **3. Loading images from Sentinel-2 & Landsat 8**"
   ]
  },
  {
   "cell_type": "code",
   "execution_count": null,
   "metadata": {},
   "outputs": [],
   "source": [
    "signed_sentinel_items = [planetary_computer.sign(sentinel_items).to_dict() for sentinel_item in sentinel_items]\n",
    "\n",
    "resolution = 10\n",
    "scale = resolution / 111320\n",
    "\n",
    "sentinel_data = stac_load(\n",
    "    sentinel_items,\n",
    "    bands=[\"B01\", \"B02\", \"B03\", \"B04\", \"B05\", \"B06\", \"B07\", \"B08\", \"B8A\", \"B11\", \"B12\"],\n",
    "    crs=\"EPSG:4326\",  # Latitude-Longitude coordinate system\n",
    "    resolution=scale, \n",
    "    chunks={\"x\": 2048, \"y\": 2048},\n",
    "    dtype=\"uint16\",\n",
    "    patch_url=planetary_computer.sign,\n",
    "    bbox=bounds\n",
    ")\n",
    "median_s2 = sentinel_data.median(dim=\"time\").compute()"
   ]
  },
  {
   "cell_type": "code",
   "execution_count": null,
   "metadata": {},
   "outputs": [],
   "source": [
    "# Sign Landsat items\n",
    "signed_landsat_items = [planetary_computer.sign(item).to_dict() for item in landsat_items]\n",
    "\n",
    "landsat_data = stac_load(\n",
    "    landsat_items,\n",
    "    bands=[\"B2\", \"B3\", \"B4\", \"B5\", \"B6\", \"B7\"],\n",
    "    crs=\"EPSG:4326\",\n",
    "    resolution=scale,\n",
    "    chunks={\"x\": 2048, \"y\": 2048},\n",
    "    dtype=\"uint16\",\n",
    "    patch_url=planetary_computer.sign,\n",
    "    bbox=bounds\n",
    ")\n",
    "\n",
    "# Create a median composite for Landsat\n",
    "median_ls = landsat_data.median(dim=\"time\").compute()\n"
   ]
  }
 ],
 "metadata": {
  "kernelspec": {
   "display_name": "Python 3",
   "language": "python",
   "name": "python3"
  },
  "language_info": {
   "codemirror_mode": {
    "name": "ipython",
    "version": 3
   },
   "file_extension": ".py",
   "mimetype": "text/x-python",
   "name": "python",
   "nbconvert_exporter": "python",
   "pygments_lexer": "ipython3",
   "version": "3.12.6"
  }
 },
 "nbformat": 4,
 "nbformat_minor": 2
}
