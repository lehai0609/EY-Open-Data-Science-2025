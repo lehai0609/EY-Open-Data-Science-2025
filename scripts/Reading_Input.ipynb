{
 "cells": [
  {
   "cell_type": "code",
   "execution_count": 1,
   "metadata": {},
   "outputs": [],
   "source": [
    "import geopandas as gpd\n",
    "from shapely.geometry import shape\n",
    "import pandas as pd"
   ]
  },
  {
   "cell_type": "code",
   "execution_count": 2,
   "metadata": {},
   "outputs": [],
   "source": [
    "# Path to your 2021 KML file\n",
    "kml_2021_path = 'Building_Footprint.kml'\n",
    "\n",
    "# Load the KML file\n",
    "gdf_2021 = gpd.read_file(kml_2021_path, driver='KML')\n",
    "\n",
    "# Display the first few rows\n",
    "print(gdf_2021.head())\n"
   ]
  },
  {
   "cell_type": "code",
   "execution_count": 8,
   "metadata": {},
   "outputs": [
    {
     "data": {
      "text/plain": [
       "['']"
      ]
     },
     "execution_count": 8,
     "metadata": {},
     "output_type": "execute_result"
    }
   ],
   "source": [
    "# Path to your 2025 shapefile (without the .shp extension)\n",
    "shapefile_2025_path = 'Building Footprints_20250129.kml'\n",
    "\n",
    "# Load the shapefile\n",
    "gdf_2025 = gpd.read_file(shapefile_2025_path)\n",
    "\n",
    "# Display the first few rows\n",
    "print(gdf_2025.head())\n"
   ]
  },
  {
   "cell_type": "code",
   "execution_count": 3,
   "metadata": {},
   "outputs": [
    {
     "name": "stdout",
     "output_type": "stream",
     "text": [
      "  Name Description                                           geometry\n",
      "0                   MULTIPOLYGON (((-73.91903 40.8482, -73.91933 4...\n",
      "1                   MULTIPOLYGON (((-73.92195 40.84963, -73.92191 ...\n",
      "2                   MULTIPOLYGON (((-73.9205 40.85011, -73.92045 4...\n",
      "3                   MULTIPOLYGON (((-73.92056 40.8514, -73.92053 4...\n",
      "4                   MULTIPOLYGON (((-73.91234 40.85218, -73.91247 ...\n",
      "5                   MULTIPOLYGON (((-73.91278 40.85274, -73.91269 ...\n",
      "6                   MULTIPOLYGON (((-73.89516 40.85072, -73.89521 ...\n",
      "7                   MULTIPOLYGON (((-73.92046 40.83938, -73.92041 ...\n",
      "8                   MULTIPOLYGON (((-73.92714 40.83532, -73.92723 ...\n",
      "9                   MULTIPOLYGON (((-73.9264 40.83544, -73.9265 40...\n"
     ]
    }
   ],
   "source": [
    "# Check CRS of both GeoDataFrames\n",
    "print(\"2021 KML CRS:\", gdf_2021.crs)\n",
    "print(\"2025 Shapefile CRS:\", gdf_2025.crs)\n"
   ]
  }
 ],
 "metadata": {
  "kernelspec": {
   "display_name": "Python 3",
   "language": "python",
   "name": "python3"
  },
  "language_info": {
   "codemirror_mode": {
    "name": "ipython",
    "version": 3
   },
   "file_extension": ".py",
   "mimetype": "text/x-python",
   "name": "python",
   "nbconvert_exporter": "python",
   "pygments_lexer": "ipython3",
   "version": "3.12.6"
  }
 },
 "nbformat": 4,
 "nbformat_minor": 2
}
